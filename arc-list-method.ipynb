{
 "cells": [
  {
   "cell_type": "markdown",
   "execution_count": null,
   "metadata": {},
   "source": [
    "* In this notebook, we tackle a sub class of the task in the ARC dataset.\n",
    "\n",
    "* These tasks contain the same 'object' shapes in the input and output except that the colour of the objects changes.\n",
    "\n",
    "* We encode some of the 'core knowledge priors' outlined by Chollet. We then perform a search operation on the 'selecting' functions. These are functions that identify an object in the input by one of its 'core' properties. "
   ]
  },
  {
   "cell_type": "code",
   "execution_count": 1,
   "metadata": {
    "_cell_guid": "b1076dfc-b9ad-4769-8c92-a6c4dae69d19",
    "_uuid": "8f2839f25d086af736a60e9eeb907d3b93b6e0e5"
   },
   "outputs": [
    {
     "name": "stderr",
     "output_type": "stream",
     "text": [
      "Using TensorFlow backend.\n"
     ]
    }
   ],
   "source": [
    "import numpy as np\n",
    "import pandas as pd\n",
    "import os\n",
    "import json\n",
    "from pathlib import Path\n",
    "import matplotlib.pyplot as plt\n",
    "from matplotlib import colors\n",
    "import numpy as np\n",
    "from scipy import ndimage\n",
    "import tensorflow as tf\n",
    "from tensorflow import keras\n",
    "from keras.layers import Input, LSTM, Embedding, Dense\n",
    "from keras.models import Model\n",
    "from tqdm import tqdm\n",
    "import itertools"
   ]
  },
  {
   "cell_type": "code",
   "execution_count": 2,
   "metadata": {
    "_cell_guid": "79c7e3d0-c299-4dcb-8224-4455121ee9b0",
    "_uuid": "d629ff2d2480ee46fbb7e2d37f6b5fab8052498a"
   },
   "outputs": [],
   "source": [
    "import json\n",
    "import os\n",
    "from os.path import join as path_join\n",
    "\n",
    "\n",
    "def load_data(path):\n",
    "    tasks = pd.Series()\n",
    "    for file_path in os.listdir(path):\n",
    "        task_file = path_join(path, file_path)\n",
    "\n",
    "        with open(task_file, 'r') as f:\n",
    "            task = json.load(f)\n",
    "\n",
    "        tasks[file_path[:-5]] = task\n",
    "    return tasks"
   ]
  },
  {
   "cell_type": "code",
   "execution_count": 3,
   "metadata": {},
   "outputs": [
    {
     "name": "stderr",
     "output_type": "stream",
     "text": [
      "/opt/conda/lib/python3.7/site-packages/ipykernel_launcher.py:7: DeprecationWarning: The default dtype for empty Series will be 'object' instead of 'float64' in a future version. Specify a dtype explicitly to silence this warning.\n",
      "  import sys\n"
     ]
    },
    {
     "data": {
      "text/plain": [
       "b91ae062    {'train': [{'input': [[6, 7, 0], [0, 6, 6], [0...\n",
       "b27ca6d3    {'train': [{'input': [[0, 0, 0, 0, 0, 0, 0, 0,...\n",
       "7f4411dc    {'train': [{'input': [[0, 7, 0, 0, 0, 0, 0, 0,...\n",
       "9d9215db    {'train': [{'input': [[0, 0, 0, 0, 0, 0, 0, 0,...\n",
       "11852cab    {'train': [{'input': [[0, 0, 0, 0, 0, 0, 0, 0,...\n",
       "dtype: object"
      ]
     },
     "execution_count": 3,
     "metadata": {},
     "output_type": "execute_result"
    }
   ],
   "source": [
    "train_tasks = load_data('../input/abstraction-and-reasoning-challenge/training/')\n",
    "evaluation_tasks = load_data('../input/abstraction-and-reasoning-challenge/evaluation/')\n",
    "test_tasks = load_data('../input/abstraction-and-reasoning-challenge/test/')\n",
    "train_tasks.head()"
   ]
  },
  {
   "cell_type": "code",
   "execution_count": 4,
   "metadata": {},
   "outputs": [],
   "source": [
    "import matplotlib.pyplot as plt\n",
    "from matplotlib import colors\n",
    "\n",
    "def plot_task(task,j=0,k=0):\n",
    "    \"\"\"\n",
    "    Plots the first train and test pairs of a specified task,\n",
    "    using same color scheme as the ARC app\n",
    "    \"\"\"\n",
    "    cmap = colors.ListedColormap(\n",
    "        ['#000000', '#0074D9','#FF4136','#2ECC40','#FFDC00',\n",
    "         '#AAAAAA', '#F012BE', '#FF851B', '#7FDBFF', '#870C25'])\n",
    "    norm = colors.Normalize(vmin=0, vmax=9)\n",
    "    fig, axs = plt.subplots(1, 4, figsize=(15,15))\n",
    "    axs[0].imshow(task['train'][j]['input'], cmap=cmap, norm=norm)\n",
    "    axs[0].axis('off')\n",
    "    axs[0].set_title('Train Input')\n",
    "    axs[1].imshow(task['train'][j]['output'], cmap=cmap, norm=norm)\n",
    "    axs[1].axis('off')\n",
    "    axs[1].set_title('Train Output')\n",
    "    axs[2].imshow(task['test'][k]['input'], cmap=cmap, norm=norm)\n",
    "    axs[2].axis('off')\n",
    "    axs[2].set_title('Test Input')\n",
    "    axs[3].imshow(task['test'][k]['output'], cmap=cmap, norm=norm)\n",
    "    axs[3].axis('off')\n",
    "    axs[3].set_title('Test Output')\n",
    "    plt.tight_layout()\n",
    "    plt.show()"
   ]
  },
  {
   "cell_type": "code",
   "execution_count": 5,
   "metadata": {},
   "outputs": [],
   "source": [
    "def plot_images(images):\n",
    "    \"\"\"\n",
    "    Plots the first train and test pairs of a specified task,\n",
    "    using same color scheme as the ARC app\n",
    "    \"\"\"\n",
    "    cmap = colors.ListedColormap(\n",
    "        ['#000000', '#0074D9','#FF4136','#2ECC40','#FFDC00',\n",
    "         '#AAAAAA', '#F012BE', '#FF851B', '#7FDBFF', '#870C25'])\n",
    "    norm = colors.Normalize(vmin=0, vmax=9)\n",
    "    m = len(images)\n",
    "    fig, axs = plt.subplots(1, m, figsize=(15,15))\n",
    "    for i in range(m):\n",
    "        axs[i].imshow(images[i], cmap=cmap, norm=norm)\n",
    "        axs[i].axis('off')\n",
    "        axs[i].set_title('Image' + str(i))\n",
    "    plt.tight_layout()\n",
    "    plt.show()"
   ]
  },
  {
   "cell_type": "markdown",
   "execution_count": null,
   "metadata": {},
   "source": [
    "## DSL"
   ]
  },
  {
   "cell_type": "code",
   "execution_count": 6,
   "metadata": {},
   "outputs": [],
   "source": [
    "class fund_unit:\n",
    "    \n",
    "    def __init__(self,colour,position,ambient = -1):\n",
    "        self.colour = colour\n",
    "        self.position = position #list of places\n",
    "        l1 = [x[0] for x in position]\n",
    "        l2 = [x[1] for x in position]\n",
    "        a = min(l1)\n",
    "        corners = get_corners(position)\n",
    "        self.top_right = corners['top_right']\n",
    "        self.top_left = corners['top_left']\n",
    "        self.bottom_left = corners['bottom_left']\n",
    "        self.bottom_right = corners['bottom_right']\n",
    "        self.colour = colour\n",
    "        self.ambient = ambient\n",
    "        self.right = corners['right']\n",
    "        self.left = corners['left']\n",
    "        self.bottom = corners['bottom']\n",
    "        self.top = corners['top']"
   ]
  },
  {
   "cell_type": "code",
   "execution_count": 7,
   "metadata": {},
   "outputs": [],
   "source": [
    "def create(colour,position):\n",
    "    unit = fund_unit(colour,position)\n",
    "    return(unit)"
   ]
  },
  {
   "cell_type": "markdown",
   "execution_count": null,
   "metadata": {},
   "source": [
    "# Distance functions"
   ]
  },
  {
   "cell_type": "code",
   "execution_count": 8,
   "metadata": {},
   "outputs": [],
   "source": [
    "def min_steps(unit1,unit2,include_end = 0):\n",
    "    l = []\n",
    "    for x in unit1.position:\n",
    "        for y in unit2.position:\n",
    "            a = count_steps(x[0],y[0],include_end)\n",
    "            b = count_steps(x[1],y[1],include_end)\n",
    "            l.append((a,b))\n",
    "    l.sort(key = lambda x : abs(x[0]) + abs(x[1]))   \n",
    "    t = l[0]\n",
    "    return(np.array([t[0],t[1]]))         "
   ]
  },
  {
   "cell_type": "code",
   "execution_count": 9,
   "metadata": {},
   "outputs": [],
   "source": [
    "def max_steps(unit1,unit2,include_end = 0):\n",
    "    l = []\n",
    "    for x in unit1.position:\n",
    "        for y in unit2.position:\n",
    "            a = count_steps(x[0],y[0],include_end)\n",
    "            b = count_steps(x[1],y[1],include_end)\n",
    "            l.append((a,b))\n",
    "    l.sort(key = lambda x : abs(x[0]) + abs(x[1]))   \n",
    "    t = l[-1]\n",
    "    #return(l)\n",
    "    return(np.array([t[0],t[1]]))"
   ]
  },
  {
   "cell_type": "code",
   "execution_count": 10,
   "metadata": {},
   "outputs": [],
   "source": [
    "def count_steps(a,b,include_end = 0):\n",
    "    steps = 0\n",
    "    if include_end == 0:\n",
    "        if a < b:\n",
    "            steps = b-a-1\n",
    "        if a > b:\n",
    "            steps = b-a+1\n",
    "    else:\n",
    "        steps = b-a\n",
    "    return(steps)    "
   ]
  },
  {
   "cell_type": "markdown",
   "execution_count": null,
   "metadata": {},
   "source": [
    "# Attribute functions"
   ]
  },
  {
   "cell_type": "code",
   "execution_count": 11,
   "metadata": {},
   "outputs": [],
   "source": [
    "#units is a list\n",
    "def get_colour_dict(units):\n",
    "    colours = {}\n",
    "    for j in range(10):\n",
    "        colours[j] = []\n",
    "        for unit in units:\n",
    "            if unit.colour == j:\n",
    "                colours[j].append(unit)\n",
    "        colours[j].sort(key = lambda unit: (unit.top_left[0],unit.top_left[1]))\n",
    "    return(colours)    "
   ]
  },
  {
   "cell_type": "code",
   "execution_count": null,
   "metadata": {},
   "outputs": [],
   "source": []
  },
  {
   "cell_type": "code",
   "execution_count": 12,
   "metadata": {},
   "outputs": [],
   "source": [
    "def get_corners(position):\n",
    "    l1 = [x[0] for x in position]\n",
    "    l2 = [x[1] for x in position]\n",
    "    a = min(l1)\n",
    "    l3 = []\n",
    "    for x in position:\n",
    "        if x[0] == a:\n",
    "            l3.append(x[1])\n",
    "    b = min(l3)\n",
    "    c = max(l3)\n",
    "    corners = {'top_left' : np.array([a,b]),'top_right' : np.array([a,c])}\n",
    "    a = max(l1)\n",
    "    for x in position:\n",
    "        if x[0] == a:\n",
    "            l3.append(x[1])\n",
    "    b = min(l3)\n",
    "    c = max(l3)\n",
    "    corners['bottom_left'] = np.array([a,b])\n",
    "    corners['bottom_right'] = np.array([a,c])\n",
    "    # get the coordinates of the top cell\n",
    "    a = min(l1)\n",
    "    l3 = []\n",
    "    for x in position:\n",
    "        if x[0] == a:\n",
    "            l3.append(x[1])\n",
    "    l3.sort()        \n",
    "    if len(l3)%2 == 1:\n",
    "        m = (len(l3)-1)//2\n",
    "    else:\n",
    "        m = len(l3)//2\n",
    "    corners['top'] = np.array([a,l3[m]])\n",
    "    #coordinates of the bottom cell\n",
    "    a = max(l1)\n",
    "    l3 = []\n",
    "    for x in position:\n",
    "        if x[0] == a:\n",
    "            l3.append(x[1])\n",
    "    l3.sort()        \n",
    "    if len(l3)%2 == 1:\n",
    "        m = (len(l3)-1)//2\n",
    "    else:\n",
    "        m = len(l3)//2\n",
    "    corners['bottom'] = np.array([a,l3[m]])    \n",
    "    #coordinates of the left cell\n",
    "    a = min(l2)\n",
    "    l3 = []\n",
    "    for x in position:\n",
    "        if x[1] == a:\n",
    "            l3.append(x[0])\n",
    "    l3.sort()        \n",
    "    if len(l3)%2 == 1:\n",
    "        m = (len(l3)-1)//2\n",
    "    else:\n",
    "        m = len(l3)//2\n",
    "    corners['left'] = np.array([l3[m],a])\n",
    "    #coordinates of the right cell \n",
    "    a = max(l2)\n",
    "    l3 = []\n",
    "    for x in position:\n",
    "        if x[1] == a:\n",
    "            l3.append(x[0])\n",
    "    l3.sort()        \n",
    "    if len(l3)%2 == 1:\n",
    "        m = (len(l3)-1)//2\n",
    "    else:\n",
    "        m = len(l3)//2\n",
    "    corners['right'] = np.array([l3[m],a])\n",
    "    return(corners)"
   ]
  },
  {
   "cell_type": "code",
   "execution_count": 13,
   "metadata": {},
   "outputs": [],
   "source": [
    "def get_size_list(units):\n",
    "    units.sort(key = lambda u : len(u.position))\n",
    "    return(units)    "
   ]
  },
  {
   "cell_type": "code",
   "execution_count": 14,
   "metadata": {},
   "outputs": [],
   "source": [
    "# returns chunks of unit1 which are copies of unit2 after moving it. \n",
    "def pattern_matching(unit1,unit2,with_colour = False):\n",
    "    if with_colour and not unit1.colour == unit2.colour:\n",
    "        return([])\n",
    "    else:\n",
    "        l = []\n",
    "        matches = []\n",
    "        y = unit2.position[0]\n",
    "        for x in unit1.position:\n",
    "            l.append(x-y)\n",
    "        s1 = [(a[0],a[1]) for a in unit1.position]        \n",
    "        s1 = set(s1)\n",
    "        for z in l:\n",
    "            p2 = [y + z for y in unit2.position]\n",
    "            p2 = [(a[0],a[1]) for a in p2]\n",
    "            p2 = set(p2)\n",
    "            if p2.issubset(s1):\n",
    "                p2 = list(p2)\n",
    "                p2 = [np.array([a[0],a[1]]) for a in p2]\n",
    "                matches.append([p2,z])\n",
    "        matches.sort(key = lambda a : abs(a[1][0]) + abs(a[1][1]))\n",
    "        return(matches)                "
   ]
  },
  {
   "cell_type": "code",
   "execution_count": 15,
   "metadata": {},
   "outputs": [],
   "source": [
    "# sorts a list of units by size\n",
    "def sort_by_size(l):\n",
    "    l.sort(key = lambda u : len(u.position))\n",
    "    return(l)"
   ]
  },
  {
   "cell_type": "code",
   "execution_count": 16,
   "metadata": {},
   "outputs": [],
   "source": [
    "def sort_by_position(l,base = 0):\n",
    "    if base != 3 and base !=7:\n",
    "        l.sort(key = lambda u : (give_base(u,base)[0],give_base(u,base)[1]))\n",
    "    if base == 7:\n",
    "        l.sort(key = lambda u : (give_base(u,base)[1],give_base(u,base)[0]))\n",
    "    if base == 3:\n",
    "        l.sort(key = lambda u : (-give_base(u,base)[1],give_base(u,base)[0]))\n",
    "    return(l)\n",
    "\n",
    "def give_base(unit,base):\n",
    "    d = {}\n",
    "    d[0] = unit.top_left\n",
    "    d[1] = unit.top\n",
    "    d[2] = unit.top_right\n",
    "    d[3] = unit.right\n",
    "    d[4] = unit.bottom_right\n",
    "    d[5] = unit.bottom \n",
    "    d[6] = unit.bottom_left\n",
    "    d[7] = unit.left\n",
    "    return(d[base])"
   ]
  },
  {
   "cell_type": "markdown",
   "execution_count": null,
   "metadata": {},
   "source": [
    "# Change unit in place"
   ]
  },
  {
   "cell_type": "code",
   "execution_count": 17,
   "metadata": {},
   "outputs": [],
   "source": [
    "def change_colour(l,c):\n",
    "    for unit in l:\n",
    "        unit.colour = c\n",
    "    return(l)"
   ]
  },
  {
   "cell_type": "code",
   "execution_count": 18,
   "metadata": {},
   "outputs": [],
   "source": [
    "# Build image information"
   ]
  },
  {
   "cell_type": "code",
   "execution_count": 19,
   "metadata": {},
   "outputs": [],
   "source": [
    "def get_units(img,with_diag = False):\n",
    "    img = np.array(img)\n",
    "    r,c = img.shape\n",
    "    ambient = img.shape\n",
    "    E = {}\n",
    "    V = []\n",
    "    for i in range(r):\n",
    "        for j in range(c):\n",
    "            V.append((i,j))\n",
    "            E[(i,j)] = [] \n",
    "    for i in range(r):\n",
    "        for j in range(c):\n",
    "            if i-1 >= 0 and img[i-1,j] == img[i,j]:\n",
    "                    E[(i,j)].append((i-1,j))\n",
    "            if i+1 <= r-1 and img[i+1,j] == img[i,j]:\n",
    "                E[(i,j)].append((i+1,j))\n",
    "            if j-1 >= 0 and img[i,j-1] == img[i,j]:\n",
    "                E[(i,j)].append((i,j-1))\n",
    "            if j+1 <= c-1 and img[i,j+1] == img[i,j]:\n",
    "                E[(i,j)].append((i,j+1))\n",
    "            if with_diag:    \n",
    "                if i-1 >= 0 and j-1 >= 0 and img[i-1,j-1] == img[i,j]:\n",
    "                    E[(i,j)].append((i-1,j-1))\n",
    "                if i-1 >= 0 and j+1 <= c-1 and img[i-1,j+1] == img[i,j]:\n",
    "                    E[(i,j)].append((i-1,j+1))\n",
    "                if i+1 <= r-1 and j-1 >= 0 and img[i+1,j-1] == img[i,j]:\n",
    "                    E[(i,j)].append((i+1,j-1))\n",
    "                if i+1 <= r-1 and j+1 <= c-1 and img[i+1,j+1] == img[i,j]:\n",
    "                    E[(i,j)].append((i+1,j+1))\n",
    "    parent = DFS(V,E)\n",
    "    units = []\n",
    "    for v in parent.keys():\n",
    "        if len(parent[v]) > 0:\n",
    "            temp = [np.array([x[0],x[1]]) for x in parent[v]]\n",
    "            unit = fund_unit(img[v],temp,ambient)\n",
    "            units.append(unit)\n",
    "    units.sort(key = lambda unit: (unit.top_left[0],unit.top_left[1]))        \n",
    "    return(units)"
   ]
  },
  {
   "cell_type": "code",
   "execution_count": 20,
   "metadata": {},
   "outputs": [],
   "source": [
    "def offset(coordinates,a,b):\n",
    "    new_x = coordinates[0] + a\n",
    "    new_y = coordinates[1] + b\n",
    "    return(np.array([new_x,new_y]))"
   ]
  },
  {
   "cell_type": "code",
   "execution_count": 21,
   "metadata": {},
   "outputs": [],
   "source": [
    "def DFS(V,E):\n",
    "    colour = {}\n",
    "    parent = {}\n",
    "    for v in V:\n",
    "        colour[v] = 0\n",
    "        parent[v] = []\n",
    "    for v in V:\n",
    "        if colour[v] == 0:\n",
    "            DFS_search(v,E,parent[v],colour)\n",
    "    return(parent)        "
   ]
  },
  {
   "cell_type": "code",
   "execution_count": 22,
   "metadata": {},
   "outputs": [],
   "source": [
    "def DFS_search(v,E,l,colour):\n",
    "    l.append(v)\n",
    "    colour[v] = 1\n",
    "    for e in E[v]:\n",
    "        if colour[e] == 0:\n",
    "            DFS_search(e,E,l,colour)\n",
    "    colour[v] = 2    "
   ]
  },
  {
   "cell_type": "code",
   "execution_count": 23,
   "metadata": {},
   "outputs": [],
   "source": [
    "# f returns a list. We want it to act on every element of a list\n",
    "def do_for_list(l,f):\n",
    "    t = []\n",
    "    for x in l:\n",
    "        t = t + f(x)\n",
    "    return(t)"
   ]
  },
  {
   "cell_type": "markdown",
   "execution_count": null,
   "metadata": {},
   "source": [
    "# Check contractibility & clear blank space"
   ]
  },
  {
   "cell_type": "code",
   "execution_count": 24,
   "metadata": {},
   "outputs": [],
   "source": [
    "def get_genus(unit,with_diag = False):\n",
    "    r,c = unit.ambient\n",
    "    l = boundary_img(r,c)\n",
    "    if check_belongs_to(l,unit.position):\n",
    "        is_a_boundary = True\n",
    "    else:\n",
    "        is_a_boundary = False\n",
    "    #i = 0\n",
    "    #count = 0\n",
    "    #while check_belongs_to([l[i]],unit.position):\n",
    "    #    count += 1\n",
    "    #    i += 1\n",
    "    #    if i > len(l)-1:\n",
    "    #        break\n",
    "    #if count < 2*c + 2*r - 4:\n",
    "    #    start_key = l[i]\n",
    "    #    is_a_boundary = False\n",
    "    #else:\n",
    "    #    is_a_boundary = True\n",
    "    u = fund_unit(1,unit.position,unit.ambient)\n",
    "    img = concat([u],u.ambient)\n",
    "    units = get_units(img,with_diag)\n",
    "    enclosed_area = []\n",
    "    g = 0 \n",
    "    for v in units:\n",
    "        if check_empty_intersection(l,v.position) and check_empty_intersection(v.position,unit.position):\n",
    "            g += 1\n",
    "    return(g)  "
   ]
  },
  {
   "cell_type": "code",
   "execution_count": 25,
   "metadata": {},
   "outputs": [],
   "source": [
    "def check_contractible(unit,with_diag = False):\n",
    "    g = get_genus(unit,with_diag)\n",
    "    if g == 0:\n",
    "        return(True)\n",
    "    else:\n",
    "        return(False)"
   ]
  },
  {
   "cell_type": "code",
   "execution_count": 26,
   "metadata": {},
   "outputs": [],
   "source": [
    "def get_non_contractible(units,with_diag = False,with_background = False):\n",
    "    non_contract = []\n",
    "    units = sort_by_size(units)\n",
    "    if not with_background and units[-1] == 0:\n",
    "        units = units[:-1]\n",
    "    for u in units:\n",
    "        if not check_contractible(u,with_diag):\n",
    "            non_contract.append(u)\n",
    "    return(non_contract)        "
   ]
  },
  {
   "cell_type": "code",
   "execution_count": 27,
   "metadata": {},
   "outputs": [],
   "source": [
    "def get_up_to_homotopy(units):\n",
    "    t = []\n",
    "    for u in units:\n",
    "        if not check_contractible(u):\n",
    "            t.append(u)\n",
    "    return(t)        "
   ]
  },
  {
   "cell_type": "code",
   "execution_count": 28,
   "metadata": {},
   "outputs": [],
   "source": [
    "# removes the blank spaces of the background, no assumption if backgroung even exists.\n",
    "def get_rid_of_empty_space(img):\n",
    "    img = np.array(img)\n",
    "    ambient = np.array(img).shape\n",
    "    units = get_units(img)\n",
    "    background = sort_by_size(units)[-1]\n",
    "    #h = len(background.position) > len(sort_by_size(units)[-2].position)\n",
    "    r,c = ambient[0],ambient[1]\n",
    "    non_empty_rows = []\n",
    "    non_empty_cols = []\n",
    "    new_img = []\n",
    "    for i in range(r):\n",
    "        x = 0\n",
    "        for j in range(c):\n",
    "            if img[(i,j)] != background.colour:\n",
    "                x = 1 \n",
    "        if x == 1:\n",
    "            non_empty_rows.append(i) \n",
    "    for j in range(c):\n",
    "        x = 0\n",
    "        for i in range(r):\n",
    "            if img[(i,j)] != background.colour:\n",
    "                x = 1 \n",
    "        if x == 1:\n",
    "            non_empty_cols.append(j)\n",
    "    for i in range(r):\n",
    "        if i in non_empty_rows:\n",
    "            new_img.append(img[i])\n",
    "    new_img = np.transpose(np.array(new_img))\n",
    "    new_img2 = []\n",
    "    for j in range(c):\n",
    "        if j in non_empty_cols:\n",
    "            new_img2.append(new_img[j])\n",
    "    new_img2 = np.transpose(np.array(new_img2))\n",
    "    return(new_img2)"
   ]
  },
  {
   "cell_type": "markdown",
   "execution_count": null,
   "metadata": {},
   "source": [
    "## Check grid"
   ]
  },
  {
   "cell_type": "code",
   "execution_count": 29,
   "metadata": {},
   "outputs": [],
   "source": [
    "def check_identical(l):\n",
    "    u0 = l[0]\n",
    "    t = 0\n",
    "    for u in l:\n",
    "        if len(u.position) == len(u0.position):\n",
    "            p = pattern_matching(u,u0)\n",
    "            if len(p) >= 1:\n",
    "                t += 1\n",
    "    if t == len(l):\n",
    "        return(True)\n",
    "    else:\n",
    "        return(False)"
   ]
  },
  {
   "cell_type": "code",
   "execution_count": 30,
   "metadata": {},
   "outputs": [],
   "source": [
    "def check_grid(img,get_diag = False):\n",
    "    img = np.array(img)\n",
    "    ambient = np.array(img).shape\n",
    "    units = sort_by_size(get_units(img,get_diag))\n",
    "    for u in units:\n",
    "        c = 0\n",
    "        v = []\n",
    "        for w in units:\n",
    "            if w != u:\n",
    "                v.append(w)\n",
    "        r = {}\n",
    "        for w in v:\n",
    "            x = w.top_left\n",
    "            if x[0] in r.keys():\n",
    "                r[x[0]].append(w)\n",
    "            else:\n",
    "                r[x[0]] = [w]\n",
    "        temp = []\n",
    "        for k in r.keys():\n",
    "            temp.append(len(r[k]))\n",
    "        if len(set(temp)) > 1:\n",
    "            c = 1 \n",
    "        for k in r.keys():\n",
    "            if not check_identical(r[k]):\n",
    "                c = 1\n",
    "        if c == 0:\n",
    "            return([u])\n",
    "    return([]) "
   ]
  },
  {
   "cell_type": "code",
   "execution_count": 31,
   "metadata": {},
   "outputs": [],
   "source": [
    "# background is the unit of largest size\n",
    "\n",
    "def get_background(img,get_diag = False):\n",
    "    img = np.array(img)\n",
    "    ambient = np.array(img).shape\n",
    "    units = get_units(img,get_diag)\n",
    "    background = sort_by_size(units)[-1]\n",
    "    return(background)"
   ]
  },
  {
   "cell_type": "markdown",
   "execution_count": null,
   "metadata": {},
   "source": [
    " ## collecting units that are surrounded"
   ]
  },
  {
   "cell_type": "code",
   "execution_count": 32,
   "metadata": {},
   "outputs": [],
   "source": [
    "def check_actual_coord(x,y,r,c):\n",
    "    if x >= 0 and x <= r-1 and y >= 0 and y <= c-1:\n",
    "        return(True)\n",
    "    else:\n",
    "        return(False)"
   ]
  },
  {
   "cell_type": "code",
   "execution_count": 33,
   "metadata": {},
   "outputs": [],
   "source": [
    "def udlr(x,r,c):\n",
    "    a,b = x[0],x[1]\n",
    "    l = []\n",
    "    x_up = [a-1,b]\n",
    "    x_down = [a+1,b]\n",
    "    x_right = [a,b+1]\n",
    "    x_left = [a,b-1]\n",
    "    t = [x_up,x_down,x_right,x_left]\n",
    "    for i in range(4):\n",
    "        if check_actual_coord(t[i][0],t[i][1],r,c):\n",
    "            l.append(np.array(t[i]))\n",
    "    return(l)       "
   ]
  },
  {
   "cell_type": "code",
   "execution_count": 34,
   "metadata": {},
   "outputs": [],
   "source": [
    "def is_surrounded(u1,u2):\n",
    "    r,c = u1.ambient\n",
    "    val = True\n",
    "    for x in u1.position:\n",
    "        t = udlr(x,r,c)\n",
    "        m = len(t)\n",
    "        if m < 4:\n",
    "            val = False\n",
    "        for i in range(m):\n",
    "            if not check_belongs_to([t[i]],u1.position):\n",
    "                if not check_belongs_to([t[i]],u2.position):\n",
    "                    val = False\n",
    "    return(val)                        "
   ]
  },
  {
   "cell_type": "code",
   "execution_count": 35,
   "metadata": {},
   "outputs": [],
   "source": [
    "t = np.array([[1,1,1,1],[1,1,0,1],[1,0,0,1],[1,1,1,1]])\n",
    "units = sort_by_size(get_units(t))"
   ]
  },
  {
   "cell_type": "code",
   "execution_count": 36,
   "metadata": {},
   "outputs": [],
   "source": [
    "# Returns a dict - surrounded, where surrounded[u] is the list of units v surrounded by u.\n",
    "\n",
    "def get_surrounded(units):\n",
    "    surrounded = {}\n",
    "    for u in units:\n",
    "        surrounded[u] = []\n",
    "        for v in units:\n",
    "            if is_surrounded(v,u):\n",
    "                surrounded[u].append(v)\n",
    "    return(surrounded)            "
   ]
  },
  {
   "cell_type": "code",
   "execution_count": 37,
   "metadata": {},
   "outputs": [],
   "source": [
    "def surrounded_list(units):\n",
    "    surrounded = []\n",
    "    d = get_surrounded(units)\n",
    "    l = []\n",
    "    for k in d.keys():\n",
    "        l = l + d[k]\n",
    "    return(l)    "
   ]
  },
  {
   "cell_type": "markdown",
   "execution_count": null,
   "metadata": {},
   "source": [
    "## Get shapes which are contained in other shapes"
   ]
  },
  {
   "cell_type": "code",
   "execution_count": 38,
   "metadata": {},
   "outputs": [],
   "source": [
    "def boundary_img(r,c):\n",
    "    l = []\n",
    "    for j in range(c):\n",
    "        l.append(np.array([0,j]))\n",
    "    for j in range(r):\n",
    "        l.append(np.array([j,c-1]))\n",
    "    for j in range(c):\n",
    "        l.append(np.array([r-1,j]))\n",
    "    for j in range(r):\n",
    "        l.append(np.array([j,0]))\n",
    "    return(l)    "
   ]
  },
  {
   "cell_type": "code",
   "execution_count": 39,
   "metadata": {},
   "outputs": [],
   "source": [
    "def get_intersection(l1,l2):\n",
    "    l11 = [(x[0],x[1]) for x in l1]\n",
    "    l22 = [(x[0],x[1]) for x in l2]\n",
    "    l = list(set(l11)&set(l22))\n",
    "    l = [np.array(x) for x in l]\n",
    "    return(l)"
   ]
  },
  {
   "cell_type": "code",
   "execution_count": 40,
   "metadata": {},
   "outputs": [],
   "source": [
    "def check_empty_intersection(l1,l2):\n",
    "    l = get_intersection(l1,l2)\n",
    "    if len(l) > 0:\n",
    "        return(False)\n",
    "    else:\n",
    "        return(True)"
   ]
  },
  {
   "cell_type": "code",
   "execution_count": 41,
   "metadata": {},
   "outputs": [],
   "source": [
    "# Assume the container is not black\n",
    "\n",
    "def get_enclosed_area(unit):\n",
    "    r,c = unit.ambient\n",
    "    l = boundary_img(r,c)\n",
    "    i = 0\n",
    "    count = 0\n",
    "    while check_belongs_to([l[i]],unit.position):\n",
    "        count += 1\n",
    "        i += 1\n",
    "        if i > len(l)-1:\n",
    "            break\n",
    "    if count < 2*c + 2*r - 4:\n",
    "        start_key = l[i]\n",
    "        is_a_boundary = False\n",
    "    else:\n",
    "        is_a_boundary = True\n",
    "    u = fund_unit(1,unit.position,unit.ambient)\n",
    "    img = concat([u],u.ambient)\n",
    "    units = get_units(img)\n",
    "    enclosed_area = []\n",
    "    if is_a_boundary:\n",
    "        for v in units:\n",
    "            if check_belongs_to([v.top_left],[u.top_left]):\n",
    "                enclosed_area += v.position                \n",
    "    if len(units) > 2 and not is_a_boundary:\n",
    "        for v in units:\n",
    "            if not check_belongs_to([v.top_left],[u.top_left]) and check_empty_intersection(l,v.position):\n",
    "                enclosed_area += v.position\n",
    "    return(enclosed_area)            "
   ]
  },
  {
   "cell_type": "code",
   "execution_count": 42,
   "metadata": {},
   "outputs": [],
   "source": [
    "def contained_list(units):\n",
    "    contained = []\n",
    "    enclosed_area = []\n",
    "    for u in units:\n",
    "        if u.colour != 0:\n",
    "            enclosed_area += get_enclosed_area(u)\n",
    "    for v in units:\n",
    "        if check_belongs_to(v.position,enclosed_area):\n",
    "            contained.append(v)\n",
    "    return(contained)                   "
   ]
  },
  {
   "cell_type": "code",
   "execution_count": 43,
   "metadata": {},
   "outputs": [],
   "source": [
    "def contained_in(units):\n",
    "    d = {}\n",
    "    l = detect_regular_non_contractible(units)\n",
    "    for u in l:\n",
    "        d[u] = []\n",
    "        x = u.top_left\n",
    "        y = u.bottom_right\n",
    "        l1 = list(range(x[0],y[0]+1))\n",
    "        l2 = list(range(x[1],y[1]+1))\n",
    "        temp = list(itertools.product(l1,l2))\n",
    "        p = []\n",
    "        for t in temp:\n",
    "            p.append(np.array([t[0],t[1]]))\n",
    "        pdiff = []    \n",
    "        for v in p:\n",
    "            r0 = 0\n",
    "            for z in u.position:\n",
    "                if v[0] == z[0] and v[1] == z[1]:\n",
    "                    r0 += 1\n",
    "            if r0 == 0:\n",
    "                pdiff.append(v)\n",
    "        udiff = fund_unit(0,pdiff,u.ambient)\n",
    "        for v in units:\n",
    "            if check_belongs_to(v.position,u.position):\n",
    "                d[u].append(v)\n",
    "    return(d)            "
   ]
  },
  {
   "cell_type": "markdown",
   "execution_count": null,
   "metadata": {},
   "source": [
    "## Extracting simple shapes"
   ]
  },
  {
   "cell_type": "code",
   "execution_count": 44,
   "metadata": {},
   "outputs": [],
   "source": [
    "def is_regular(unit):\n",
    "    x = unit.top_left\n",
    "    y = unit.bottom_right\n",
    "    l1 = list(range(x[0],y[0]+1))\n",
    "    l2 = list(range(x[1],y[1]+1))\n",
    "    temp = list(itertools.product(l1,l2))\n",
    "    p = []\n",
    "    for t in temp:\n",
    "        p.append(np.array([t[0],t[1]]))\n",
    "    u0 = fund_unit(0,p,unit.ambient)\n",
    "    if len(p) == len(unit.position):\n",
    "        l = pattern_matching(u0,unit)\n",
    "        if len(l) > 0:\n",
    "            if len(l1) == len(l2):\n",
    "                return('square')\n",
    "            if len(l1) == 1 and len(l2) > len(l1):\n",
    "                return('vertical line')\n",
    "            if len(l2) == 1 and len(l1) > len(l2):\n",
    "                return('horizontal line')\n",
    "            if len(l1) > len(l2):\n",
    "                return('horizontal rectangle')\n",
    "            if len(l2) > len(l1):\n",
    "                return('vertical rectangle')\n",
    "    return('-1')        "
   ]
  },
  {
   "cell_type": "code",
   "execution_count": 45,
   "metadata": {},
   "outputs": [],
   "source": [
    "def get_regular_shapes(units):\n",
    "    d = {}\n",
    "    d['square'] = []\n",
    "    d['vertical line'] = []\n",
    "    d['horizontal line'] = []\n",
    "    d['horizontal rectangle'] = []\n",
    "    d['vertical rectangle'] = []\n",
    "    d['-1'] = []\n",
    "    for u in units:\n",
    "        d[is_regular(u)].append(u)\n",
    "    return(d)   "
   ]
  },
  {
   "cell_type": "code",
   "execution_count": 46,
   "metadata": {},
   "outputs": [],
   "source": [
    "# returns a dict whose keys are elements of the list 'units' and whose values are equivalence classes coded as integers or the list of equivalent shapes.  \n",
    "\n",
    "def shape_equivalences(units,return_lists = True,remove_background = False): \n",
    "    #img = np.array(img)\n",
    "    #ambient = np.array(img).shape\n",
    "    units = sort_by_size(units)\n",
    "    if remove_background:\n",
    "        units = units[:-1]    \n",
    "    d = {}\n",
    "    d[units[0]] = []\n",
    "    is_key = {}\n",
    "    for u in units:\n",
    "        is_key[u] = False\n",
    "    for u in units:\n",
    "        c = 0\n",
    "        for v in units:\n",
    "            if is_key[v]:\n",
    "                if len(u.position) == len(v.position):\n",
    "                    l = pattern_matching(u,v)\n",
    "                    if len(l) > 0:\n",
    "                        c += 1\n",
    "                        d[v].append(u)\n",
    "        if c == 0:\n",
    "            d[u] = [u]\n",
    "            is_key[u] = True\n",
    "    m = len(d.keys())\n",
    "    shape_equivalences = {}\n",
    "    for j,key in enumerate(d.keys()):\n",
    "        for u in d[key]:\n",
    "            shape_equivalences[u] = j\n",
    "    if return_lists:\n",
    "        return(d)\n",
    "    else:\n",
    "        return(shape_equivalences)"
   ]
  },
  {
   "cell_type": "code",
   "execution_count": 47,
   "metadata": {},
   "outputs": [],
   "source": [
    "def get_task_num(img,task):\n",
    "    m = len(task['train'])\n",
    "    for i in range(m):\n",
    "        if np.all(img == task['train'][i]['input']):\n",
    "            return(i)"
   ]
  },
  {
   "cell_type": "code",
   "execution_count": 48,
   "metadata": {},
   "outputs": [],
   "source": [
    "# Returns list of units of an image which also occur in all other images of the training set. num = -1 when img is the test image\n",
    "\n",
    "def common_shapes_across_images(img,task,img_units,num):\n",
    "    #if num == -1:\n",
    "    #    num = get_task_num(img,task)\n",
    "    m = len(task['train'])\n",
    "    all_units = []\n",
    "    task_number = {}\n",
    "    for i in range(m):\n",
    "        if i != num:\n",
    "            units = get_units(task['train'][i]['input'])\n",
    "        else:\n",
    "            units = img_units\n",
    "        for u in units:\n",
    "            task_number[u] = i\n",
    "        all_units += units\n",
    "    if num == -1:\n",
    "        units = img_units\n",
    "        all_units += img_units\n",
    "        for u in units:\n",
    "            task_number[u] = i\n",
    "    d = shape_equivalences(all_units) \n",
    "    shapes_across_images = []\n",
    "    for x in d.keys():\n",
    "        l = [task_number[y] for y in d[x]]\n",
    "        if len(set(l)) == m:\n",
    "            shapes_across_images.append(x)\n",
    "    final_list = []\n",
    "    for x in shapes_across_images:\n",
    "         for u in d[x]:\n",
    "                if task_number[u] == num:\n",
    "                    final_list.append(u)\n",
    "    return(final_list)       "
   ]
  },
  {
   "cell_type": "code",
   "execution_count": 49,
   "metadata": {},
   "outputs": [],
   "source": [
    "def shape_equivalences_counts(units,remove_background = False):\n",
    "    d = {}\n",
    "    s = shape_equivalences(units,True,remove_background)\n",
    "    for x in s.keys():\n",
    "        m = len(s[x])\n",
    "        if m in d.keys():\n",
    "            d[m] += s[x]\n",
    "        else:\n",
    "            d[m] = s[x]\n",
    "    return(d)        "
   ]
  },
  {
   "cell_type": "code",
   "execution_count": null,
   "metadata": {},
   "outputs": [],
   "source": []
  },
  {
   "cell_type": "code",
   "execution_count": 50,
   "metadata": {},
   "outputs": [],
   "source": [
    "# checks if l1 is a subset of l2. Both are lists of np arrays of length 2.\n",
    "def check_belongs_to(l1,l2):\n",
    "    r = 0 \n",
    "    for z in l1:\n",
    "        for x in l2:\n",
    "            if x[0] == z[0] and x[1] == z[1]:\n",
    "                r += 1\n",
    "    if r == len(l1):\n",
    "        return(True)\n",
    "    else:\n",
    "        return(False)"
   ]
  },
  {
   "cell_type": "code",
   "execution_count": 51,
   "metadata": {},
   "outputs": [],
   "source": [
    "def check_this_please(u,x1,x2):\n",
    "    l1 = list(range(x1[0],x2[0]+1))\n",
    "    l2 = []\n",
    "    for t in l1:\n",
    "        l2.append(np.array([t,x1[1]]))\n",
    "    if check_belongs_to(l1,u.position):\n",
    "        count = 1\n",
    "    else:\n",
    "        count = 0\n",
    "    return(count)           "
   ]
  },
  {
   "cell_type": "code",
   "execution_count": 52,
   "metadata": {},
   "outputs": [],
   "source": [
    "import itertools\n",
    "# selects the regular non contractible elements of units i.e. those elements of the list units whose hole is a regular object. \n",
    "\n",
    "def detect_regular_non_contractible(units):\n",
    "    #img = np.array(img)\n",
    "    #ambient = np.array(img).shape\n",
    "    units = sort_by_size(units)\n",
    "    regular_non_contractible = []\n",
    "    for u in units:\n",
    "        x = u.top_left\n",
    "        y = u.bottom_right\n",
    "        l1 = list(range(x[0],y[0]+1))\n",
    "        l2 = list(range(x[1],y[1]+1))\n",
    "        temp = list(itertools.product(l1,l2))\n",
    "        p = []\n",
    "        for t in temp:\n",
    "            p.append(np.array([t[0],t[1]]))\n",
    "        pdiff = []    \n",
    "        for v in p:\n",
    "            r0 = 0\n",
    "            for z in u.position:\n",
    "                if v[0] == z[0] and v[1] == z[1]:\n",
    "                    r0 += 1\n",
    "            if r0 == 0:\n",
    "                pdiff.append(v)\n",
    "        if len(pdiff) > 0:        \n",
    "            udiff = fund_unit(0,pdiff,u.ambient) \n",
    "            u0 = fund_unit(0,p,u.ambient)\n",
    "            s = is_regular(udiff)\n",
    "            if s != '-1':\n",
    "                count = 0\n",
    "                x1 = udiff.top_left\n",
    "                x2 = udiff.top_right\n",
    "                l1 = list(range(x1[1],x2[1]+1))\n",
    "                l2 = []\n",
    "                for t in l1:\n",
    "                    l2.append(np.array([x1[0]-1,t]))\n",
    "                if check_belongs_to(l2,u.position):\n",
    "                    count += 1\n",
    "                x1 = udiff.top_right\n",
    "                x2 = udiff.bottom_right\n",
    "                l1 = list(range(x1[0],x2[0]+1))\n",
    "                l2 = []\n",
    "                for t in l1:\n",
    "                    l2.append(np.array([t,x1[1]+1]))\n",
    "                if check_belongs_to(l2,u.position):\n",
    "                    count += 1 \n",
    "                x1 = udiff.bottom_left\n",
    "                x2 = udiff.bottom_right\n",
    "                l1 = list(range(x1[1],x2[1]+1))\n",
    "                l2 = []\n",
    "                for t in l1:\n",
    "                    l2.append(np.array([x1[0]+1,t]))\n",
    "                if check_belongs_to(l2,u.position):\n",
    "                    count += 1    \n",
    "                x1 = udiff.top_left\n",
    "                x2 = udiff.bottom_left\n",
    "                l1 = list(range(x1[0],x2[0]+1))\n",
    "                l2 = []\n",
    "                for t in l1:\n",
    "                    l2.append(np.array([t,x1[1]-1]))\n",
    "                if check_belongs_to(l2,u.position):\n",
    "                    count += 1\n",
    "                if count == 4:\n",
    "                    regular_non_contractible.append(u)\n",
    "    return(regular_non_contractible)       "
   ]
  },
  {
   "cell_type": "markdown",
   "execution_count": null,
   "metadata": {},
   "source": [
    "## Filter by sizes"
   ]
  },
  {
   "cell_type": "code",
   "execution_count": 53,
   "metadata": {},
   "outputs": [],
   "source": [
    "def filter_by_size(units):\n",
    "    f = {}\n",
    "    for j in range(1,7):\n",
    "        f[j] = []\n",
    "    for u in units:\n",
    "        if len(u.position) < 6:\n",
    "            f[len(u.position)].append(u)\n",
    "        else:\n",
    "            f[6].append(u)\n",
    "    return(f)        "
   ]
  },
  {
   "cell_type": "markdown",
   "execution_count": null,
   "metadata": {},
   "source": [
    "# Assembling image from units"
   ]
  },
  {
   "cell_type": "code",
   "execution_count": 54,
   "metadata": {},
   "outputs": [],
   "source": [
    "def concat(l,ambient,background = 0):\n",
    "    r,c = ambient\n",
    "    a = np.full(ambient,background)\n",
    "    for x in l:\n",
    "        for z in x.position:\n",
    "            if z[0] >= 0 and z[0] <= r-1 and z[1] >= 0 and z[1] <= c-1:\n",
    "                a[z[0],z[1]] = x.colour\n",
    "    return(a)        "
   ]
  },
  {
   "cell_type": "markdown",
   "execution_count": null,
   "metadata": {},
   "source": [
    "# Get easier sub-collection of the tasks"
   ]
  },
  {
   "cell_type": "code",
   "execution_count": 55,
   "metadata": {},
   "outputs": [],
   "source": [
    "def input_output_shape_is_same(task):\n",
    "    return all([np.array(el['input']).shape == np.array(el['output']).shape for el in task['train']])\n",
    "\n",
    "def get_equals(task_series):\n",
    "    l = []\n",
    "    for j in task_series.index:\n",
    "        if input_output_shape_is_same(task_series[j]):\n",
    "            l.append(j)\n",
    "    return(l)        "
   ]
  },
  {
   "cell_type": "code",
   "execution_count": 56,
   "metadata": {},
   "outputs": [],
   "source": [
    "l_input_output_same_size = get_equals(train_tasks)\n",
    "l_input_output_same_size.sort()"
   ]
  },
  {
   "cell_type": "code",
   "execution_count": 57,
   "metadata": {},
   "outputs": [],
   "source": [
    "# convert a list of np arrays to tuples\n",
    "def convert_to_tuple(t):\n",
    "    s = [(a[0],a[1]) for a in t]\n",
    "    return(s)"
   ]
  },
  {
   "cell_type": "code",
   "execution_count": 58,
   "metadata": {},
   "outputs": [],
   "source": [
    "# count those images where one must only colour match\n",
    "l_colour_match_no_diag = []\n",
    "for index in l_input_output_same_size:\n",
    "    task = train_tasks[index]\n",
    "    c = 0\n",
    "    for example in task['train']:\n",
    "        units_input = get_units(np.array(example['input']))\n",
    "        units_output = get_units(np.array(example['output']))\n",
    "        if len(units_input) == len(units_output):\n",
    "            sub_count = 0\n",
    "            for u in units_input:\n",
    "                s1 = set(convert_to_tuple(u.position))\n",
    "                for v in units_output:\n",
    "                    s2 = set(convert_to_tuple(v.position))\n",
    "                    if s1 == s2:\n",
    "                        sub_count += 1\n",
    "            if sub_count == len(units_input):\n",
    "                c += 1\n",
    "        if c == len(task['train']):        \n",
    "            l_colour_match_no_diag.append(index) "
   ]
  },
  {
   "cell_type": "markdown",
   "execution_count": null,
   "metadata": {},
   "source": [
    "## Inference"
   ]
  },
  {
   "cell_type": "code",
   "execution_count": 59,
   "metadata": {},
   "outputs": [],
   "source": [
    "# outputs a dict with the following encoding : \n",
    "# 0 --> all units\n",
    "# 1 --> non contractible objects\n",
    "# 2 --> surrounded_list\n",
    "# 3 --> contained_in list\n",
    "# 4 --> squares\n",
    "# 5 --> vertical_line\n",
    "# 6 --> horizontal line\n",
    "# 7 --> horizontal rectangle\n",
    "# 8 --> vertical rectangle\n",
    "# 9 --> -1 (irregular shape)\n",
    "# 10 --> regular shapes (union of 14,15,16,17,18) \n",
    "# 11 --> regular non contractible units\n",
    "# 12 --> List of shapes with no doubles\n",
    "# 13 --> shapes which are doubled\n",
    "# 14 --> Shapes which are trebled\n",
    "# 15 --> Shapes that appear in all train inputs\n",
    "# 16 --> Shapes of size 1\n",
    "# 17 --> Shapes of size 2\n",
    "# 18 --> Shapes of size 3\n",
    "# 19 --> Shapes of size 4\n",
    "# 20 --> Shapes of size 5\n",
    "# 21 --> Shapes of size greater than 5\n",
    "# 22 --> Shapes of size greater than 1\n",
    "# All negative keys are complements of the corresponding positive keys\n",
    "\n",
    "def get_lists(img,task = None,num = -1,with_diag = False):\n",
    "    list_dict = {}\n",
    "    img = np.array(img)\n",
    "    ambient = np.array(img).shape\n",
    "    units = get_units(img,with_diag)\n",
    "    list_dict[0] = units\n",
    "    #c_dict = get_colour_dict(units)\n",
    "    #for i in range(10):\n",
    "    #    list_dict[i+1] = c_dict[i]\n",
    "    #t = get_up_to_homotopy(units)\n",
    "    list_dict[1] = get_non_contractible(units,with_diag,False)\n",
    "    list_dict[2] = surrounded_list(units)\n",
    "    list_dict[3] = contained_list(units)\n",
    "    shape_d = get_regular_shapes(units)\n",
    "    list_dict[4] = shape_d['square']\n",
    "    list_dict[5] = shape_d['vertical line']\n",
    "    list_dict[6] = shape_d['horizontal line']\n",
    "    list_dict[7] = shape_d['horizontal rectangle']\n",
    "    list_dict[8] = shape_d['vertical rectangle']\n",
    "    list_dict[9] = shape_d['-1']\n",
    "    list_dict[10] = list_dict[4] + list_dict[5] + list_dict[6] + list_dict[7] + list_dict[8]\n",
    "    #for count,i in enumerate(range(14,21)):\n",
    "    #    d_temp = get_colour_dict(list_dict[i])\n",
    "    #    t = extract_lists_from_dict(d_temp)\n",
    "    #    for j in range(10):\n",
    "    #        list_dict[21+(count*10)+j] = t[j]\n",
    "    list_dict[11] = detect_regular_non_contractible(units)\n",
    "    shape_counts = shape_equivalences_counts(units,True)\n",
    "    for i in range(1,4):\n",
    "        if i not in shape_counts.keys():\n",
    "            shape_counts[i] = []\n",
    "    for i in range(1,4):\n",
    "        list_dict[11+i] = shape_counts[i]\n",
    "    list_dict[15] = common_shapes_across_images(img,task,units,num)\n",
    "    f = filter_by_size(units)\n",
    "    for j in range(1,7):\n",
    "        list_dict[15+j] = f[j]\n",
    "    list_dict = get_list_dict_complements(units,list_dict) \n",
    "    return(list_dict)    "
   ]
  },
  {
   "cell_type": "code",
   "execution_count": 60,
   "metadata": {},
   "outputs": [],
   "source": [
    "def get_list_dict_complements(units,list_dict):\n",
    "    e = {}\n",
    "    for i in list_dict.keys():\n",
    "        if i > 0:\n",
    "            t = list(set(units) - set(list_dict[i]))\n",
    "            e[-i] = t\n",
    "    for j in e.keys():\n",
    "        list_dict[j] = e[j]\n",
    "    return(list_dict)        "
   ]
  },
  {
   "cell_type": "code",
   "execution_count": 61,
   "metadata": {},
   "outputs": [],
   "source": [
    "def extract_lists_from_dict(d):\n",
    "    t = []\n",
    "    for x in d.keys():\n",
    "        t.append(d[x])\n",
    "    return(t)    "
   ]
  },
  {
   "cell_type": "markdown",
   "execution_count": null,
   "metadata": {},
   "source": [
    "list of possible sortings : \n",
    "\n",
    "0 - 7 --> sort_by_position(_ , base = i)\n",
    "\n",
    "8 --> sort_by_size\n",
    "\n",
    "possible templates : \n",
    "\n",
    "0 - l[0]\n",
    "\n",
    "1 - l[1]\n",
    "\n",
    "2 - l[2]\n",
    "\n",
    "3 - l[3]\n",
    "\n",
    "4 - l[-1]\n",
    "\n",
    "5 - l[-2]\n",
    "\n",
    "6 - l[-3]\n",
    "\n",
    "7 - l[-4]\n",
    "\n",
    "8 - l[1:]\n",
    "\n",
    "9 - l[2:]\n",
    "\n",
    "10 - l[3:]\n",
    "\n",
    "11 - l[:-1]\n",
    "\n",
    "12 - l[:-2]\n",
    "\n",
    "13 - l[-3]\n",
    "\n",
    "14 - move in even indices\n",
    "\n",
    "15 - move in odd indices\n",
    "\n",
    "16 - move in multiples of 3\n",
    "\n",
    "17 - get middle element of list\n",
    "\n",
    "18 - get start, middle, end\n",
    "\n",
    "19 - whole list\n"
   ]
  },
  {
   "cell_type": "code",
   "execution_count": 62,
   "metadata": {},
   "outputs": [],
   "source": [
    "def move_in_evens(l):\n",
    "    m = len(l)\n",
    "    if m > 0:\n",
    "        r = []\n",
    "        c = 0\n",
    "        while c < m:\n",
    "            r.append(c)\n",
    "            c += 2\n",
    "        l = np.array(l)\n",
    "        l = list(l[r])\n",
    "        return(l)\n",
    "    else:\n",
    "        return([])"
   ]
  },
  {
   "cell_type": "code",
   "execution_count": 63,
   "metadata": {},
   "outputs": [],
   "source": [
    "def move_in_odds(l):\n",
    "    m = len(l)\n",
    "    if m > 0:\n",
    "        r = []\n",
    "        c = 1\n",
    "        while c < m:\n",
    "            r.append(c)\n",
    "            c += 2\n",
    "        l = np.array(l)\n",
    "        l = list(l[r])\n",
    "        return(l)\n",
    "    else:\n",
    "        return([])"
   ]
  },
  {
   "cell_type": "code",
   "execution_count": 64,
   "metadata": {},
   "outputs": [],
   "source": [
    "def move_in_3s(l):\n",
    "    m = len(l)\n",
    "    if m > 0:\n",
    "        r = []\n",
    "        c = 0\n",
    "        while c < m:\n",
    "            r.append(c)\n",
    "            c += 3\n",
    "        l = np.array(l)\n",
    "        l = list(l[r])\n",
    "        return(l)\n",
    "    else:\n",
    "        return([])"
   ]
  },
  {
   "cell_type": "code",
   "execution_count": 65,
   "metadata": {},
   "outputs": [],
   "source": [
    "def middle(l):\n",
    "    m = len(l)\n",
    "    if m > 0:\n",
    "        if m%2 == 0:\n",
    "            return([l[m//2]])\n",
    "        if m%2 == 1:\n",
    "            t = (m-1)//2\n",
    "            return([l[t]])\n",
    "    else:\n",
    "        return([])"
   ]
  },
  {
   "cell_type": "code",
   "execution_count": 66,
   "metadata": {},
   "outputs": [],
   "source": [
    "def start_mid_end(l):\n",
    "    if len(l) > 0:\n",
    "        mid = middle(l)[0]\n",
    "        return([l[0],mid,l[-1]])\n",
    "    else:\n",
    "        return([])"
   ]
  },
  {
   "cell_type": "code",
   "execution_count": 67,
   "metadata": {},
   "outputs": [],
   "source": [
    "def template_sublist(l,template):\n",
    "    d = {}\n",
    "    m = len(l)\n",
    "    for i in range(4):\n",
    "        if m > i:\n",
    "            d[i] = [l[i]]\n",
    "        else:\n",
    "            d[i] = []\n",
    "    for i in range(1,5):\n",
    "        if m >= i:\n",
    "            d[3+i] = [l[-i]]\n",
    "        else:\n",
    "            d[3+i] = []        \n",
    "    d[8]= l[1:]\n",
    "    d[9]= l[2:]\n",
    "    d[10]= l[3:]\n",
    "    d[11]= l[:-1]\n",
    "    d[12]= l[:-2]\n",
    "    d[13]= l[:-3]\n",
    "    d[14] = move_in_evens(l)\n",
    "    d[15] = move_in_odds(l)\n",
    "    d[16] = move_in_3s(l)\n",
    "    d[17] = middle(l)\n",
    "    d[18] = start_mid_end(l)\n",
    "    d[19] = l\n",
    "    return(d[template])         "
   ]
  },
  {
   "cell_type": "code",
   "execution_count": 68,
   "metadata": {},
   "outputs": [],
   "source": [
    "def sorting_list(l,sorting_type):\n",
    "    if sorting_type <= 7:\n",
    "        return(sort_by_position(l,sorting_type))\n",
    "    if sorting_type == 8:\n",
    "        return(sort_by_size(l))"
   ]
  },
  {
   "cell_type": "code",
   "execution_count": 69,
   "metadata": {},
   "outputs": [],
   "source": [
    "# sorting_type -- is an int from 0 --> 8\n",
    "# template -- is an int from 0 --> 18\n",
    "# colour_filter -- is an int from 0 --> 10 where 0 to 9 correspond to colours and 10 is no colour filter. \n",
    "\n",
    "def get_list_selection(l,sorting_type,template,colour_filter):\n",
    "    l = sorting_list(l,sorting_type)\n",
    "    l = template_sublist(l,template)\n",
    "    c_dict = get_colour_dict(l)\n",
    "    if colour_filter < 10:\n",
    "        t = c_dict[colour_filter]\n",
    "    else:\n",
    "        t = l\n",
    "    return(t)"
   ]
  },
  {
   "cell_type": "code",
   "execution_count": 70,
   "metadata": {},
   "outputs": [],
   "source": [
    "def identify_generic_list(l,img,task,num,with_diag = False):\n",
    "    r = []\n",
    "    list_dict = get_lists(img,task,num,with_diag)\n",
    "    for i in list_dict.keys():\n",
    "        for j in range(9):\n",
    "            for k in range(20):\n",
    "                for m in range(11):\n",
    "                    temp = get_list_selection(list_dict[i],j,k,m)\n",
    "                    #print(temp)\n",
    "                    if is_equal(temp,l):\n",
    "                        r.append((i,j,k,m))\n",
    "    return(r)"
   ]
  },
  {
   "cell_type": "code",
   "execution_count": 71,
   "metadata": {},
   "outputs": [],
   "source": [
    "def is_equal(l1,l2):\n",
    "    count1 = 0\n",
    "    count2 = 0\n",
    "    m1 = len(l1)\n",
    "    m2 = len(l2)\n",
    "    if m1 == 0 and m2 > 0:\n",
    "        return(False)\n",
    "    if m1 > 0 and m2 == 0:\n",
    "        return(False)    \n",
    "    for u in l1:\n",
    "        for v in l2:\n",
    "            x = [(a[0],a[1]) for a in u.position]\n",
    "            y = [(b[0],b[1]) for b in v.position]\n",
    "            if set(x) == set(y) and u.colour == v.colour:\n",
    "                count1 +=1 \n",
    "    for u in l2:\n",
    "        for v in l1:\n",
    "            x = [(a[0],a[1]) for a in u.position]\n",
    "            y = [(b[0],b[1]) for b in v.position]\n",
    "            if set(x) == set(y) and u.colour == v.colour:\n",
    "                count2 +=1   \n",
    "    if count1 == len(l1) and count2 == len(l2):\n",
    "        return(True)\n",
    "    else:\n",
    "        return(False)"
   ]
  },
  {
   "cell_type": "code",
   "execution_count": 72,
   "metadata": {},
   "outputs": [],
   "source": [
    "def get_colour_change_dict(task,task_number):\n",
    "    img_in = task['train'][task_number]['input']\n",
    "    img_out = task['train'][task_number]['output']\n",
    "    img_in = np.array(img_in)\n",
    "    ambient = img_in.shape\n",
    "    img_out = np.array(img_out)\n",
    "    units_in = sort_by_position(get_units(img_in),0)\n",
    "    units_out = sort_by_position(get_units(img_out),0)\n",
    "    m = len(units_in)\n",
    "    colour_diffs = {}\n",
    "    for i in range(m):\n",
    "        if units_in[i].colour != units_out[i].colour:\n",
    "            if units_out[i].colour not in colour_diffs.keys():\n",
    "                colour_diffs[units_out[i].colour] = [units_in[i]]\n",
    "            else:\n",
    "                colour_diffs[units_out[i].colour].append(units_in[i])\n",
    "    return(colour_diffs)            "
   ]
  },
  {
   "cell_type": "code",
   "execution_count": 73,
   "metadata": {},
   "outputs": [],
   "source": [
    "def intersection(lst1, lst2): \n",
    "    return list(set(lst1) & set(lst2))"
   ]
  },
  {
   "cell_type": "code",
   "execution_count": 74,
   "metadata": {},
   "outputs": [],
   "source": [
    "def get_unique_dict_values(d):\n",
    "    e = {}\n",
    "    for x in d.keys():\n",
    "        temp = d[x]\n",
    "        for y in d.keys():\n",
    "            if x != y:\n",
    "                temp = list(set(temp) - set(d[y]))\n",
    "        e[x] = temp\n",
    "    return(e)    "
   ]
  },
  {
   "cell_type": "code",
   "execution_count": 75,
   "metadata": {},
   "outputs": [],
   "source": [
    "def whittle_candidates_down(task,task_number,colour_diff_solutions,with_diag = False):\n",
    "    img = np.array(task['train'][task_number]['input'])\n",
    "    list_dict = get_lists(img,task,task_number,with_diag)\n",
    "    colour_diff =  get_colour_change_dict(task,task_number)\n",
    "    for c in colour_diff.keys():\n",
    "        if c in colour_diff_solutions.keys():\n",
    "            temp = colour_diff_solutions[c]\n",
    "        else:\n",
    "            temp = []\n",
    "        p = len(temp)\n",
    "        if p == 0:\n",
    "            img = np.array(task['train'][task_number]['input'])\n",
    "            colour_diff_solutions[c] = identify_generic_list(colour_diff[c],img,task,task_number,with_diag)\n",
    "        else:\n",
    "            temp1 = []\n",
    "            for i in range(p):\n",
    "                a,b,c1,d = temp[i]\n",
    "                t = get_list_selection(list_dict[a],b,c1,d)\n",
    "                if is_equal(t,colour_diff[c]):\n",
    "                    temp1.append(temp[i])\n",
    "            colour_diff_solutions[c] = temp1\n",
    "    e = get_unique_dict_values(colour_diff_solutions)        \n",
    "    return(e) "
   ]
  },
  {
   "cell_type": "code",
   "execution_count": 76,
   "metadata": {},
   "outputs": [],
   "source": [
    "def training_algo(task,with_diag = False):\n",
    "    m = len(task['train'])\n",
    "    colour_diff = get_colour_change_dict(task,0)\n",
    "    img = np.array(task['train'][0]['input'])\n",
    "    colour_diff_solutions = {}\n",
    "    for c in colour_diff.keys():\n",
    "        l_c = colour_diff[c]\n",
    "        solutions = identify_generic_list(l_c,img,task,0,with_diag)\n",
    "        colour_diff_solutions[c] = solutions\n",
    "    #return(colour_diff_solutions)    \n",
    "    for i in range(1,m):\n",
    "        colour_diff_solutions = whittle_candidates_down(task,i,colour_diff_solutions,with_diag)\n",
    "    for i in range(m-1,-1,-1):\n",
    "        colour_diff_solutions = whittle_candidates_down(task,i,colour_diff_solutions,with_diag)\n",
    "    return(colour_diff_solutions)"
   ]
  },
  {
   "cell_type": "code",
   "execution_count": 77,
   "metadata": {},
   "outputs": [],
   "source": [
    "def collect_predictions(task,with_diag = False):\n",
    "    colour_diff_solutions = training_algo(task,with_diag)\n",
    "    preds = []\n",
    "    m = len(task['test'])\n",
    "    for i in range(m):\n",
    "        img_out = assemble_test(task,i,colour_diff_solutions,with_diag)\n",
    "        preds.append(img_out)    \n",
    "    return(preds)    "
   ]
  },
  {
   "cell_type": "code",
   "execution_count": 78,
   "metadata": {},
   "outputs": [],
   "source": [
    "def assemble_test(task,task_number,colour_diff_solutions,with_diag = False):\n",
    "    img = np.array(task['test'][task_number]['input'])\n",
    "    ambient = img.shape\n",
    "    list_dict = get_lists(img,task,-1,with_diag)\n",
    "    output_units = []\n",
    "    for c in colour_diff_solutions.keys():\n",
    "        if len(colour_diff_solutions[c]) > 0:\n",
    "            #x,y,z = colour_diff_solutions[c][0]\n",
    "            #temp = get_list_selection(list_dict[x],y,z)\n",
    "            temp = filter_solutions(list_dict,colour_diff_solutions,c)\n",
    "        else:\n",
    "            temp = []\n",
    "        for t in temp:\n",
    "            t.colour = c\n",
    "        output_units += temp\n",
    "    # Get all units    \n",
    "    units = get_list_selection(list_dict[0],0,19,10)\n",
    "    other_units = []\n",
    "    m = len(output_units)\n",
    "    if m == 0:\n",
    "        other_units = units\n",
    "    else:    \n",
    "        for u in units:\n",
    "            c = 0\n",
    "            for v in output_units:\n",
    "                if not is_equal([u],[v]):\n",
    "                    c += 1\n",
    "            if c == m:\n",
    "                other_units.append(u)\n",
    "    output_units = other_units + output_units            \n",
    "    img_out = concat(output_units,ambient)    \n",
    "    return(img_out)"
   ]
  },
  {
   "cell_type": "code",
   "execution_count": 79,
   "metadata": {},
   "outputs": [],
   "source": [
    "def filter_solutions(list_dict,colour_diff_solutions,c):\n",
    "    e = {}\n",
    "    for x in colour_diff_solutions[c]:\n",
    "        s = get_list_selection(list_dict[x[0]],x[1],x[2],x[3])\n",
    "        s = sort_by_position(s,0)\n",
    "        s = tuple(s)\n",
    "        if s in e.keys():\n",
    "            e[s] += 1\n",
    "        else:\n",
    "            e[s] = 1\n",
    "    l = list(e.keys())\n",
    "    l.sort(key = lambda x : e[x])\n",
    "    t = list(l[-1])\n",
    "    return(t)        "
   ]
  },
  {
   "cell_type": "markdown",
   "execution_count": null,
   "metadata": {},
   "source": [
    "## Experiment with specific tasks"
   ]
  },
  {
   "cell_type": "code",
   "execution_count": 80,
   "metadata": {},
   "outputs": [],
   "source": [
    "task = train_tasks[l_colour_match_no_diag[31]]\n",
    "img = task['train'][0]['input']"
   ]
  },
  {
   "cell_type": "code",
   "execution_count": 81,
   "metadata": {},
   "outputs": [
    {
     "data": {
      "image/png": "[encoded data removed]",
      "text/plain": [
       "<Figure size 1080x1080 with 4 Axes>"
      ]
     },
     "metadata": {
      "needs_background": "light"
     },
     "output_type": "display_data"
    }
   ],
   "source": [
    "plot_task(task,1)"
   ]
  },
  {
   "cell_type": "code",
   "execution_count": 82,
   "metadata": {},
   "outputs": [
    {
     "data": {
      "image/png": "[encoded data removed]",
      "text/plain": [
       "<Figure size 1080x1080 with 3 Axes>"
      ]
     },
     "metadata": {
      "needs_background": "light"
     },
     "output_type": "display_data"
    }
   ],
   "source": [
    "test_pred = collect_predictions(task,True)[0]\n",
    "plot_images([task['test'][0]['input'],task['test'][0]['output'],test_pred])"
   ]
  },
  {
   "cell_type": "markdown",
   "execution_count": null,
   "metadata": {},
   "source": [
    "## Submission"
   ]
  },
  {
   "cell_type": "code",
   "execution_count": 83,
   "metadata": {},
   "outputs": [],
   "source": [
    "def check_colour_match(task):\n",
    "    c = 0\n",
    "    for example in task['train']:\n",
    "        units_input = get_units(np.array(example['input']))\n",
    "        units_output = get_units(np.array(example['output']))\n",
    "        if len(units_input) == len(units_output):\n",
    "            sub_count = 0\n",
    "            for u in units_input:\n",
    "                s1 = set(convert_to_tuple(u.position))\n",
    "                for v in units_output:\n",
    "                    s2 = set(convert_to_tuple(v.position))\n",
    "                    if s1 == s2:\n",
    "                        sub_count += 1\n",
    "            if sub_count == len(units_input):\n",
    "                c += 1\n",
    "    if c == len(task['train']): \n",
    "        return(True)\n",
    "    else:\n",
    "        return(False)"
   ]
  },
  {
   "cell_type": "code",
   "execution_count": 84,
   "metadata": {},
   "outputs": [],
   "source": [
    "def flattener(pred):\n",
    "    str_pred = str([row for row in pred])\n",
    "    str_pred = str_pred.replace(', ', '')\n",
    "    str_pred = str_pred.replace('[[', '|')\n",
    "    str_pred = str_pred.replace('][', '|')\n",
    "    str_pred = str_pred.replace(']]', '|')\n",
    "    return str_pred\n",
    "\n",
    "def make_prediction(tasks):\n",
    "    result = pd.Series()\n",
    "    for idx, task in tqdm(tasks.iteritems()):\n",
    "        if input_output_shape_is_same(task) and check_colour_match(task):\n",
    "            pred = collect_predictions(task)\n",
    "        else:\n",
    "            pred = [el['input'] for el in task['test']]\n",
    "        for i, p in enumerate(pred):\n",
    "            result[f'{idx}_{i}'] = flattener(np.array(p).tolist())\n",
    "    return result"
   ]
  },
  {
   "cell_type": "code",
   "execution_count": 85,
   "metadata": {},
   "outputs": [
    {
     "name": "stderr",
     "output_type": "stream",
     "text": [
      "/opt/conda/lib/python3.7/site-packages/ipykernel_launcher.py:10: DeprecationWarning: The default dtype for empty Series will be 'object' instead of 'float64' in a future version. Specify a dtype explicitly to silence this warning.\n",
      "  # Remove the CWD from sys.path while we load stuff.\n",
      "100it [23:55, 14.36s/it]\n"
     ]
    },
    {
     "data": {
      "text/plain": [
       "19bb5feb_0    |000000000000000|000000000000000|0000000000000...\n",
       "358ba94e_0    |0111110000000000000|0111010001111100000|01111...\n",
       "2753e76c_0    |0000008800000000|0333008800000000|03330000003...\n",
       "27a77e38_0    |912849821|443127679|216978436|986342917|55555...\n",
       "09c534e7_0    |000000000000000000000000000000|00000000111110...\n",
       "dtype: object"
      ]
     },
     "execution_count": 85,
     "metadata": {},
     "output_type": "execute_result"
    }
   ],
   "source": [
    "submission = make_prediction(test_tasks)\n",
    "submission.head()"
   ]
  },
  {
   "cell_type": "code",
   "execution_count": 86,
   "metadata": {},
   "outputs": [
    {
     "data": {
      "text/html": [
       "<div>\n",
       "<style scoped>\n",
       "    .dataframe tbody tr th:only-of-type {\n",
       "        vertical-align: middle;\n",
       "    }\n",
       "\n",
       "    .dataframe tbody tr th {\n",
       "        vertical-align: top;\n",
       "    }\n",
       "\n",
       "    .dataframe thead th {\n",
       "        text-align: right;\n",
       "    }\n",
       "</style>\n",
       "<table border=\"1\" class=\"dataframe\">\n",
       "  <thead>\n",
       "    <tr style=\"text-align: right;\">\n",
       "      <th></th>\n",
       "      <th>output_id</th>\n",
       "      <th>output</th>\n",
       "    </tr>\n",
       "  </thead>\n",
       "  <tbody>\n",
       "    <tr>\n",
       "      <th>0</th>\n",
       "      <td>19bb5feb_0</td>\n",
       "      <td>|000000000000000|000000000000000|0000000000000...</td>\n",
       "    </tr>\n",
       "    <tr>\n",
       "      <th>1</th>\n",
       "      <td>358ba94e_0</td>\n",
       "      <td>|0111110000000000000|0111010001111100000|01111...</td>\n",
       "    </tr>\n",
       "    <tr>\n",
       "      <th>2</th>\n",
       "      <td>2753e76c_0</td>\n",
       "      <td>|0000008800000000|0333008800000000|03330000003...</td>\n",
       "    </tr>\n",
       "    <tr>\n",
       "      <th>3</th>\n",
       "      <td>27a77e38_0</td>\n",
       "      <td>|912849821|443127679|216978436|986342917|55555...</td>\n",
       "    </tr>\n",
       "    <tr>\n",
       "      <th>4</th>\n",
       "      <td>09c534e7_0</td>\n",
       "      <td>|000000000000000000000000000000|00000000111110...</td>\n",
       "    </tr>\n",
       "    <tr>\n",
       "      <th>...</th>\n",
       "      <td>...</td>\n",
       "      <td>...</td>\n",
       "    </tr>\n",
       "    <tr>\n",
       "      <th>99</th>\n",
       "      <td>310f3251_0</td>\n",
       "      <td>|0040|0000|0000|4000|</td>\n",
       "    </tr>\n",
       "    <tr>\n",
       "      <th>100</th>\n",
       "      <td>21f83797_0</td>\n",
       "      <td>|0000000000000|0000200000000|0000000000000|000...</td>\n",
       "    </tr>\n",
       "    <tr>\n",
       "      <th>101</th>\n",
       "      <td>0a1d4ef5_0</td>\n",
       "      <td>|550008500888080055050580000008|88550800580058...</td>\n",
       "    </tr>\n",
       "    <tr>\n",
       "      <th>102</th>\n",
       "      <td>0a2355a6_0</td>\n",
       "      <td>|00000000000000000|00111100000001110|001001001...</td>\n",
       "    </tr>\n",
       "    <tr>\n",
       "      <th>103</th>\n",
       "      <td>3ee1011a_0</td>\n",
       "      <td>|00000000000000000000000|000000000000000000000...</td>\n",
       "    </tr>\n",
       "  </tbody>\n",
       "</table>\n",
       "<p>104 rows × 2 columns</p>\n",
       "</div>"
      ],
      "text/plain": [
       "      output_id                                             output\n",
       "0    19bb5feb_0  |000000000000000|000000000000000|0000000000000...\n",
       "1    358ba94e_0  |0111110000000000000|0111010001111100000|01111...\n",
       "2    2753e76c_0  |0000008800000000|0333008800000000|03330000003...\n",
       "3    27a77e38_0  |912849821|443127679|216978436|986342917|55555...\n",
       "4    09c534e7_0  |000000000000000000000000000000|00000000111110...\n",
       "..          ...                                                ...\n",
       "99   310f3251_0                              |0040|0000|0000|4000|\n",
       "100  21f83797_0  |0000000000000|0000200000000|0000000000000|000...\n",
       "101  0a1d4ef5_0  |550008500888080055050580000008|88550800580058...\n",
       "102  0a2355a6_0  |00000000000000000|00111100000001110|001001001...\n",
       "103  3ee1011a_0  |00000000000000000000000|000000000000000000000...\n",
       "\n",
       "[104 rows x 2 columns]"
      ]
     },
     "execution_count": 86,
     "metadata": {},
     "output_type": "execute_result"
    }
   ],
   "source": [
    "submission = submission.reset_index()\n",
    "submission.columns = ['output_id', 'output']\n",
    "submission.to_csv('submission.csv', index=False)\n",
    "submission"
   ]
  },
  {
   "cell_type": "code",
   "execution_count": null,
   "metadata": {},
   "outputs": [],
   "source": []
  },
  {
   "cell_type": "code",
   "execution_count": null,
   "metadata": {},
   "outputs": [],
   "source": []
  },
  {
   "cell_type": "code",
   "execution_count": null,
   "metadata": {},
   "outputs": [],
   "source": []
  },
  {
   "cell_type": "code",
   "execution_count": null,
   "metadata": {},
   "outputs": [],
   "source": []
  },
  {
   "cell_type": "code",
   "execution_count": null,
   "metadata": {},
   "outputs": [],
   "source": []
  },
  {
   "cell_type": "code",
   "execution_count": null,
   "metadata": {},
   "outputs": [],
   "source": []
  }
 ],
 "metadata": {
  "kernelspec": {
   "display_name": "Python 3",
   "language": "python",
   "name": "python3"
  },
  "language_info": {
   "codemirror_mode": {
    "name": "ipython",
    "version": 3
   },
   "file_extension": ".py",
   "mimetype": "text/x-python",
   "name": "python",
   "nbconvert_exporter": "python",
   "pygments_lexer": "ipython3",
   "version": "3.7.6"
  }
 },
 "nbformat": 4,
 "nbformat_minor": 4
}
